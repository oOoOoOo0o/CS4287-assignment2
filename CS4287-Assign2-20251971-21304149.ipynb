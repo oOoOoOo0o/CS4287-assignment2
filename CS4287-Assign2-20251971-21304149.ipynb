{
 "cells": [
  {
   "metadata": {},
   "cell_type": "markdown",
   "source": [
    "Bayan Nezamabad 20251971\n",
    "Jacob Beck 21304149\n",
    "\n",
    "Code executes to the end without errors\n",
    "\n",
    "### References:"
   ],
   "id": "9ec14d6502d8ea28"
  },
  {
   "cell_type": "code",
   "id": "initial_id",
   "metadata": {
    "collapsed": true,
    "ExecuteTime": {
     "end_time": "2024-11-04T13:54:45.308896Z",
     "start_time": "2024-11-04T13:54:45.303432Z"
    }
   },
   "source": [
    "# Imports\n",
    "import kagglehub"
   ],
   "outputs": [],
   "execution_count": 3
  },
  {
   "metadata": {
    "ExecuteTime": {
     "end_time": "2024-11-04T13:54:45.952911Z",
     "start_time": "2024-11-04T13:54:45.349952Z"
    }
   },
   "cell_type": "code",
   "source": [
    "# Downloading dataset from Kaggle\n",
    "path = kagglehub.dataset_download(\"shahidulugvcse/national-flowers\")\n",
    "\n",
    "print(\"Path to dataset files:\", path)"
   ],
   "id": "749fb9318116f25c",
   "outputs": [
    {
     "name": "stdout",
     "output_type": "stream",
     "text": [
      "Path to dataset files: C:\\Users\\Bayan\\.cache\\kagglehub\\datasets\\shahidulugvcse\\national-flowers\\versions\\1\n"
     ]
    }
   ],
   "execution_count": 4
  },
  {
   "metadata": {},
   "cell_type": "code",
   "outputs": [],
   "execution_count": null,
   "source": "",
   "id": "e7df28aead6330b0"
  }
 ],
 "metadata": {
  "kernelspec": {
   "display_name": "Python 3",
   "language": "python",
   "name": "python3"
  },
  "language_info": {
   "codemirror_mode": {
    "name": "ipython",
    "version": 2
   },
   "file_extension": ".py",
   "mimetype": "text/x-python",
   "name": "python",
   "nbconvert_exporter": "python",
   "pygments_lexer": "ipython2",
   "version": "2.7.6"
  }
 },
 "nbformat": 4,
 "nbformat_minor": 5
}
